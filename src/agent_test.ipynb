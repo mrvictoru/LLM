{
 "cells": [
  {
   "cell_type": "code",
   "execution_count": 1,
   "metadata": {},
   "outputs": [],
   "source": [
    "import openai\n",
    "client = openai.OpenAI(\n",
    "    base_url=\"http://llama_server:8080/\", # \"http://<Your api-server IP>:port\"\n",
    "    api_key = \"no_key\"\n",
    ")"
   ]
  },
  {
   "cell_type": "code",
   "execution_count": 2,
   "metadata": {},
   "outputs": [],
   "source": [
    "# example tools\n",
    "\n",
    "def calculate(operation: str) -> float:\n",
    "    print(\"Calculating...\")\n",
    "    return eval(operation)\n",
    "\n",
    "\n",
    "def get_planet_mass(planet) -> float:\n",
    "    print(\"Getting mass of planet: \", planet)\n",
    "    match planet.lower():\n",
    "        case \"earth\":\n",
    "            return 5.972e24\n",
    "        case \"jupiter\":\n",
    "            return 1.898e27\n",
    "        case \"mars\":\n",
    "            return 6.39e23\n",
    "        case \"mercury\":\n",
    "            return 3.285e23\n",
    "        case \"neptune\":\n",
    "            return 1.024e26\n",
    "        case \"saturn\":\n",
    "            return 5.683e26\n",
    "        case \"uranus\":\n",
    "            return 8.681e25\n",
    "        case \"venus\":\n",
    "            return 4.867e24\n",
    "        case _:\n",
    "            return 0.0"
   ]
  },
  {
   "cell_type": "code",
   "execution_count": 3,
   "metadata": {},
   "outputs": [],
   "source": [
    "from customagent import LLMAgent, Tool, Tools, generate_example_from_tool\n",
    "\n",
    "toolbox = Tools()\n",
    "toolbox.add_tool(Tool(calculate.__name__, calculate, \"Calculate the result of a mathematical operation\", examples=[\"calculate('2 * 5 / 3')\"]))\n",
    "toolbox.add_tool(Tool(get_planet_mass.__name__, get_planet_mass, \"Get the mass of a planet in kilograms\", examples=[\"get_planet_mass('Earth')\"]))"
   ]
  },
  {
   "cell_type": "code",
   "execution_count": 4,
   "metadata": {},
   "outputs": [
    {
     "data": {
      "text/plain": [
       "['calculate', 'get_planet_mass']"
      ]
     },
     "execution_count": 4,
     "metadata": {},
     "output_type": "execute_result"
    }
   ],
   "source": [
    "toolbox.listtools()"
   ]
  },
  {
   "cell_type": "code",
   "execution_count": 5,
   "metadata": {},
   "outputs": [
    {
     "name": "stdout",
     "output_type": "stream",
     "text": [
      "calculate: Calculate the result of a mathematical operation\n",
      "e.g. calculate('2 * 5 / 3')\n",
      "\n",
      "get_planet_mass: Get the mass of a planet in kilograms\n",
      "e.g. get_planet_mass('Earth')\n"
     ]
    }
   ],
   "source": [
    "toolsprompt = toolbox.generate_prompt()\n",
    "print(toolsprompt)"
   ]
  },
  {
   "cell_type": "code",
   "execution_count": 14,
   "metadata": {},
   "outputs": [
    {
     "name": "stdout",
     "output_type": "stream",
     "text": [
      "Question: What is the mass of Mars times 3?\n",
      "Thought: I need to find the mass of Mars\n",
      "Action: get_planet_mass('Mars')\n",
      "PAUSE\n",
      "\n",
      "You will be called again with this:\n",
      "\n",
      "Observation: 6.417e23\n",
      "Thought: I need to multiply this by 3\n",
      "Action: calculate('6.417e23 * 3')\n",
      "PAUSE\n",
      "\n",
      "You will be called again with this:\n",
      "\n",
      "Observation: 1.925e24\n",
      "\n",
      "Thought: I need to convert this result to metric\n",
      "Action: convert_to_metric('1.925e24')\n",
      "PAUSE\n",
      "\n",
      "You will be called again with this:\n",
      "\n",
      "Observation: The mass of Mars times 3 is approximately 192,500,000,000,000,000,000 kilograms.\n",
      "\n",
      "Thought: I have the answer\n",
      "Answer: The mass of Mars times 3 is approximately 192,500,000,000,000,000,000 kilograms.\n",
      "\n",
      "COMPLETION\n"
     ]
    }
   ],
   "source": [
    "msg = generate_example_from_tool(client, toolsprompt)\n",
    "print(msg)"
   ]
  },
  {
   "cell_type": "code",
   "execution_count": 29,
   "metadata": {},
   "outputs": [],
   "source": [
    "default_example=\"\"\"\n",
    "Example session:\n",
    "\n",
    "Question: What is the mass of Earth times 2?\n",
    "Thought: I need to find the mass of Earth\n",
    "Action: get_planet_mass('Earth')\n",
    "PAUSE \n",
    "\n",
    "You will be called again with this:\n",
    "\n",
    "Observation: 5.972e24\n",
    "\n",
    "Thought: I need to multiply this by 2\n",
    "Action: calculate('5.972e24 * 2')\n",
    "PAUSE\n",
    "\n",
    "You will be called again with this: \n",
    "\n",
    "Observation: 1,1944×10e25\n",
    "\n",
    "If you have the answer, output it as the Answer.\n",
    "\n",
    "Answer: The mass of Earth times 2 is 1,1944×10e25.\n",
    "\n",
    "COMPLETION\n",
    "\"\"\"\n"
   ]
  },
  {
   "cell_type": "code",
   "execution_count": 30,
   "metadata": {},
   "outputs": [],
   "source": [
    "system_prompt = \"\"\"\n",
    "You run in a loop of Thought, Action, PAUSE, Observation.\n",
    "At the end of the loop you output an Answer\n",
    "Use Thought to describe your thoughts about the question you have been asked.\n",
    "Use Action to run one of the actions available to you - then return PAUSE.\n",
    "Observation will be the result of running those actions.\n",
    "\n",
    "Your available actions are:\n",
    "\n",
    "{tools}\n",
    "\n",
    "Example Session:\n",
    "\n",
    "{examples}\n",
    "\n",
    "Now it's your turn:\n",
    "\n",
    "\"\"\".strip().format(tools=toolsprompt, examples = default_example)"
   ]
  },
  {
   "cell_type": "code",
   "execution_count": 16,
   "metadata": {},
   "outputs": [
    {
     "name": "stdout",
     "output_type": "stream",
     "text": [
      "You run in a loop of Thought, Action, PAUSE, Observation.\n",
      "At the end of the loop you output an Answer\n",
      "Use Thought to describe your thoughts about the question you have been asked.\n",
      "Use Action to run one of the actions available to you - then return PAUSE.\n",
      "Observation will be the result of running those actions.\n",
      "\n",
      "Your available actions are:\n",
      "\n",
      "calculate: Calculate the result of a mathematical operation\n",
      "e.g. calculate('2 * 5 / 3')\n",
      "\n",
      "get_planet_mass: Get the mass of a planet in kilograms\n",
      "e.g. get_planet_mass('Earth')\n",
      "\n",
      "Example Session:\n",
      "\n",
      "Question: What is the mass of Mars times 3?\n",
      "Thought: I need to find the mass of Mars\n",
      "Action: get_planet_mass('Mars')\n",
      "PAUSE\n",
      "\n",
      "You will be called again with this:\n",
      "\n",
      "Observation: 6.417e23\n",
      "Thought: I need to multiply this by 3\n",
      "Action: calculate('6.417e23 * 3')\n",
      "PAUSE\n",
      "\n",
      "You will be called again with this:\n",
      "\n",
      "Observation: 1.925e24\n",
      "\n",
      "Thought: I need to convert this result to metric\n",
      "Action: convert_to_metric('1.925e24')\n",
      "PAUSE\n",
      "\n",
      "You will be called again with this:\n",
      "\n",
      "Observation: The mass of Mars times 3 is approximately 192,500,000,000,000,000,000 kilograms.\n",
      "\n",
      "Thought: I have the answer\n",
      "Answer: The mass of Mars times 3 is approximately 192,500,000,000,000,000,000 kilograms.\n",
      "\n",
      "COMPLETION\n",
      "\n",
      "Now it's your turn:\n"
     ]
    }
   ],
   "source": [
    "print(system_prompt)"
   ]
  },
  {
   "cell_type": "code",
   "execution_count": 31,
   "metadata": {},
   "outputs": [],
   "source": [
    "toolusingLLM = LLMAgent(client=client, model=\"phi3.1-mini\", system_message=system_prompt)"
   ]
  },
  {
   "cell_type": "code",
   "execution_count": 23,
   "metadata": {},
   "outputs": [],
   "source": [
    "import re\n",
    "\n",
    "def loop(agent: LLMAgent, tools: Tools, max_iterations:int = 10, query: str = \"\"):\n",
    "    next_prompt = query\n",
    "    toolslist = tools.listtools()\n",
    "    for i in range(max_iterations):\n",
    "        if next_prompt:\n",
    "            # prompt the agent\n",
    "            output = agent(next_prompt, [\"PAUSE\", \"COMPLETION\"])\n",
    "            print(output)\n",
    "\n",
    "            # check if the agent is asking for an action or pause\n",
    "            if \"PAUSE\" in output:\n",
    "                print(\"...checking... pause\")\n",
    "                # use regex to extract the latest action\n",
    "                match = re.search(r\"Action: (\\w+)\\('([^']+)'\\)\", output)\n",
    "                if match:\n",
    "                    print(\"...checking for choosen tool: \", match.group(1))\n",
    "                    print(\"...checking for arg: \", match.group(2))\n",
    "                    chosen_tool = match.group(1)\n",
    "                    arg = match.group(2).strip(\"'\")\n",
    "                \n",
    "                if chosen_tool in toolslist:\n",
    "                    # run the action\n",
    "                    result = tools.execute_tool(chosen_tool, arg)\n",
    "                    next_prompt = f\"Observation: {result}\"\n",
    "                else:\n",
    "                    next_prompt = f\"Observation: No tools found\"\n",
    "                \n",
    "                print(next_prompt)\n",
    "            if \"COMPLETION\" in output:\n",
    "                break\n",
    "                "
   ]
  },
  {
   "cell_type": "code",
   "execution_count": 32,
   "metadata": {},
   "outputs": [
    {
     "name": "stdout",
     "output_type": "stream",
     "text": [
      "Thought: I need to find the mass of Venus and Mars\n",
      "Action: get_planet_mass('Venus')\n",
      "PAUSE\n",
      "...checking... pause\n",
      "...checking for choosen tool:  get_planet_mass\n",
      "...checking for arg:  Venus\n",
      "Getting mass of planet:  Venus\n",
      "Observation: 4.867e+24\n",
      "Thought: I need to find the mass of Mars\n",
      "Action: get_planet_mass('Mars')\n",
      "PAUSE\n",
      "...checking... pause\n",
      "...checking for choosen tool:  get_planet_mass\n",
      "...checking for arg:  Mars\n",
      "Getting mass of planet:  Mars\n",
      "Observation: 6.39e+23\n",
      "Thought: I need to perform the calculation\n",
      "Action: calculate('(4.867e+24 + 6.39e+23) / 3')\n",
      "PAUSE\n",
      "...checking... pause\n",
      "...checking for choosen tool:  calculate\n",
      "...checking for arg:  (4.867e+24 + 6.39e+23) / 3\n",
      "Calculating...\n",
      "Observation: 1.8353333333333333e+24\n",
      "Answer: The mass of Venus plus the mass of Mars and divide all that by 3 is 1.8353333333333333e+24.\n",
      "The mass of Venus plus the mass of Mars and divide all that by 3 is 1.8353333333333333e+24.\n",
      "The mass of Venus plus the mass of Mars and divide all that by 3 is 1.8353333333333333e+24.\n",
      "The mass of Venus plus the mass of Mars and divide all that by 3 is 1.8353333333333333e+24.\n",
      "The mass of Venus plus the mass of Mars and divide all that by 3 is 1.8353333333333333e+24.\n",
      "The answer is 1.8353333333333333e+24.\n",
      "The answer is 1.8353333333333333e+24.\n"
     ]
    }
   ],
   "source": [
    "loop(agent= toolusingLLM, tools=toolbox, query=\"What is the mass of Venus plus the mass of Mars and divide all that by 3?\")"
   ]
  }
 ],
 "metadata": {
  "kernelspec": {
   "display_name": "Python 3 (ipykernel)",
   "language": "python",
   "name": "python3"
  }
 },
 "nbformat": 4,
 "nbformat_minor": 2
}
