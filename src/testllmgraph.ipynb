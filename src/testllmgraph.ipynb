{
 "cells": [
  {
   "cell_type": "code",
   "execution_count": 1,
   "metadata": {},
   "outputs": [],
   "source": [
    "from textingest import PDFDocumentHandler\n",
    "import os\n",
    "# get the file path of first pdf file in the testinput subdirectory\n",
    "pdf = os.listdir(\"testinput\")[0]\n",
    "pdf_file = os.path.join(\"testinput\", pdf)\n",
    "\n",
    "handler = PDFDocumentHandler(pdf_file)"
   ]
  },
  {
   "cell_type": "code",
   "execution_count": 2,
   "metadata": {},
   "outputs": [
    {
     "name": "stdout",
     "output_type": "stream",
     "text": [
      "Opening PDF document...\n",
      "Loading PDF document...\n"
     ]
    },
    {
     "data": {
      "application/vnd.jupyter.widget-view+json": {
       "model_id": "f5a47386c67445ecab6a3acff291957d",
       "version_major": 2,
       "version_minor": 0
      },
      "text/plain": [
       "Reading PDF:   0%|          | 0/21 [00:00<?, ?it/s]"
      ]
     },
     "metadata": {},
     "output_type": "display_data"
    }
   ],
   "source": [
    "content = handler.read_pdf()"
   ]
  },
  {
   "cell_type": "code",
   "execution_count": 2,
   "metadata": {},
   "outputs": [
    {
     "name": "stdout",
     "output_type": "stream",
     "text": [
      "URL is reachable\n"
     ]
    }
   ],
   "source": [
    "from helper import LLMAPI\n",
    "llm = LLMAPI()"
   ]
  },
  {
   "cell_type": "code",
   "execution_count": 7,
   "metadata": {},
   "outputs": [
    {
     "data": {
      "application/vnd.jupyter.widget-view+json": {
       "model_id": "bf3a8f067edd4655bbafbec4bd990b39",
       "version_major": 2,
       "version_minor": 0
      },
      "text/plain": [
       "  0%|          | 0/21 [00:00<?, ?it/s]"
      ]
     },
     "metadata": {},
     "output_type": "display_data"
    }
   ],
   "source": [
    "chunks = handler.embed_chunks(llm)"
   ]
  },
  {
   "cell_type": "code",
   "execution_count": 5,
   "metadata": {},
   "outputs": [],
   "source": [
    "check = handler.pages_and_chunks\n"
   ]
  },
  {
   "cell_type": "code",
   "execution_count": 6,
   "metadata": {},
   "outputs": [],
   "source": [
    "testtext = check[0][\"sentence_chunk\"]"
   ]
  },
  {
   "cell_type": "code",
   "execution_count": 3,
   "metadata": {},
   "outputs": [
    {
     "name": "stdout",
     "output_type": "stream",
     "text": [
      "Opening PDF document...\n",
      "Loading PDF document...\n"
     ]
    },
    {
     "data": {
      "application/vnd.jupyter.widget-view+json": {
       "model_id": "17ea261fe4a54da1bdbe2006f0dd68de",
       "version_major": 2,
       "version_minor": 0
      },
      "text/plain": [
       "Reading PDF:   0%|          | 0/28 [00:00<?, ?it/s]"
      ]
     },
     "metadata": {},
     "output_type": "display_data"
    },
    {
     "data": {
      "application/vnd.jupyter.widget-view+json": {
       "model_id": "0f095c0b3d564530b806cc7adc723cc7",
       "version_major": 2,
       "version_minor": 0
      },
      "text/plain": [
       "Embedding sentence chunks:   0%|          | 0/28 [00:00<?, ?it/s]"
      ]
     },
     "metadata": {},
     "output_type": "display_data"
    },
    {
     "data": {
      "application/vnd.jupyter.widget-view+json": {
       "model_id": "ac95043acb7b467cb9abd78ca0b9557f",
       "version_major": 2,
       "version_minor": 0
      },
      "text/plain": [
       "Extracting entities and relationships:   0%|          | 0/82 [00:00<?, ?it/s]"
      ]
     },
     "metadata": {},
     "output_type": "display_data"
    }
   ],
   "source": [
    "graphs = handler.graph_extraction(llm)"
   ]
  },
  {
   "cell_type": "code",
   "execution_count": 4,
   "metadata": {},
   "outputs": [
    {
     "data": {
      "text/html": [
       "<div><style>\n",
       ".dataframe > thead > tr,\n",
       ".dataframe > tbody > tr {\n",
       "  text-align: right;\n",
       "  white-space: pre-wrap;\n",
       "}\n",
       "</style>\n",
       "<small>shape: (82, 3)</small><table border=\"1\" class=\"dataframe\"><thead><tr><th>page</th><th>sentence_chunk</th><th>graph_extraction</th></tr><tr><td>i64</td><td>str</td><td>struct[2]</td></tr></thead><tbody><tr><td>1</td><td>&quot;433 VOL. LIX. NO.236.] [Octobe…</td><td>{[{&quot;A. M. Turing&quot;,&quot;Person&quot;,&quot;The author of the article &#x27;Computing Machinery and Intelligence&#x27;.&quot;}, {&quot;Computing Machinery and Intelligence&quot;,&quot;Article&quot;,&quot;An article written by A. M. Turing on the topic of machine intelligence.&quot;}, … {&quot;Think&quot;,&quot;Concept&quot;,&quot;The cognitive process of considering or reasoning about something.&quot;}],[{&quot;A. M. Turing&quot;,&quot;Computing Machinery and Intelligence&quot;,&quot;A. M. Turing wrote the article &#x27;Computing Machinery and Intelligence&#x27;.&quot;,0.9}, {&quot;Computing Machinery and Intelligence&quot;,&quot;Machine&quot;,&quot;The article discusses the concept of &#x27;machine&#x27;.&quot;,0.7}, {&quot;Computing Machinery and Intelligence&quot;,&quot;Think&quot;,&quot;The article discusses the concept of &#x27;think&#x27;.&quot;,0.7}]}</td></tr><tr><td>1</td><td>&quot;is to be sought in a statistic…</td><td>{[{&quot;Gallup Poll&quot;,&quot;Organization&quot;,&quot;A statistical survey organization.&quot;}, {&quot;Man (A)&quot;,&quot;Person&quot;,&quot;A participant in the imitation game, identified as &#x27;A&#x27;.&quot;}, … {&quot;Imitation Game&quot;,&quot;Game&quot;,&quot;A game played by three people, where the interrogator tries to determine the gender of the other two participants.&quot;}],[{&quot;Man (A)&quot;,&quot;Imitation Game&quot;,&quot;Man (A) is a participant in the imitation game.&quot;,0.9}, {&quot;Woman (B)&quot;,&quot;Imitation Game&quot;,&quot;Woman (B) is a participant in the imitation game.&quot;,0.9}, … {&quot;Imitation Game&quot;,&quot;Interrogator (C)&quot;,&quot;Interrogator (C) is a participant in the imitation game.&quot;,0.7}]}</td></tr><tr><td>2</td><td>&quot;434 A. M. TURING: Now suppose …</td><td>{[{&quot;A. M. Turing&quot;,&quot;Person&quot;,&quot;A mathematician and computer scientist who proposed the Turing Test.&quot;}, {&quot;X&quot;,&quot;Variable&quot;,&quot;A variable representing a person in the Turing Test scenario.&quot;}, … {&quot;Turing Test&quot;,&quot;Concept&quot;,&quot;A test of a machine&#x27;s ability to exhibit intelligent behavior equivalent to, or indistinguishable from, that of a human.&quot;}],[{&quot;A. M. Turing&quot;,&quot;Turing Test&quot;,&quot;A. M. Turing proposed the Turing Test.&quot;,0.9}, {&quot;X&quot;,&quot;A&quot;,&quot;In the scenario, X represents A.&quot;,0.8}, … {&quot;B&quot;,&quot;C&quot;,&quot;B is helping C in the Turing Test.&quot;,0.7}]}</td></tr><tr><td>2</td><td>&quot;We now ask the question, ‘What…</td><td>{[{&quot;Machine&quot;,&quot;Artificial Intelligence&quot;,&quot;A machine that takes the part of A in the game.&quot;}, {&quot;Interrogator&quot;,&quot;Person&quot;,&quot;The person who plays the game with the machine.&quot;}, … {&quot;Thinking Machine&quot;,&quot;Artificial Intelligence&quot;,&quot;A machine that is capable of thinking.&quot;}],[{&quot;Machine&quot;,&quot;Interrogator&quot;,&quot;The machine plays the game with the interrogator.&quot;,0.8}, {&quot;Machine&quot;,&quot;Man&quot;,&quot;The machine replaces the man in the game.&quot;,0.7}, … {&quot;Thinking Machine&quot;,&quot;Human Skin&quot;,&quot;A thinking machine might be made to look more human by covering it with artificial skin.&quot;,0.5}]}</td></tr><tr><td>2</td><td>&quot;The form in which we have set …</td><td>{[{&quot;The Form&quot;,&quot;Problem&quot;,&quot;The form in which the problem is set.&quot;}, {&quot;The Interrogator&quot;,&quot;Person&quot;,&quot;The person who is asking the questions.&quot;}, … {&quot;Chess&quot;,&quot;Game&quot;,&quot;A strategic board game played between two players.&quot;}],[{&quot;The Form&quot;,&quot;The Interrogator&quot;,&quot;The form of the problem is set for the interrogator.&quot;,0.8}, {&quot;The Form&quot;,&quot;The Competitors&quot;,&quot;The form of the problem is set for the competitors.&quot;,0.8}, … {&quot;The Competitors&quot;,&quot;Chess&quot;,&quot;One of the competitors plays chess.&quot;,0.6}]}</td></tr><tr><td>&hellip;</td><td>&hellip;</td><td>&hellip;</td></tr><tr><td>27</td><td>&quot;But there the systematic metho…</td><td>{[{&quot;Lady Lovelace&quot;,&quot;Person&quot;,&quot;A person mentioned in the text.&quot;}, {&quot;Statement&quot;,&quot;Statement&quot;,&quot;A statement made by Lady Lovelace.&quot;}, … {&quot;Mind&quot;,&quot;Journal&quot;,&quot;A journal from which the text is downloaded.&quot;}],[{&quot;Lady Lovelace&quot;,&quot;Statement&quot;,&quot;Lady Lovelace made the statement.&quot;,0.9}, {&quot;Statement&quot;,&quot;P. 450&quot;,&quot;The statement is located on page 450.&quot;,0.8}, … {&quot;Statement&quot;,&quot;Mind&quot;,&quot;The statement is downloaded from the Mind journal.&quot;,0.6}]}</td></tr><tr><td>28</td><td>&quot;460 A. M. TURING: the differen…</td><td>{[{&quot;A. M. Turing&quot;,&quot;Person&quot;,&quot;A renowned computer scientist and cryptographer.&quot;}, {&quot;Chess&quot;,&quot;Game&quot;,&quot;A strategic board game played between two players.&quot;}, … {&quot;Machine Learning&quot;,&quot;Field of Study&quot;,&quot;A subset of artificial intelligence that involves training algorithms to make predictions or decisions without being explicitly programmed.&quot;}],[{&quot;A. M. Turing&quot;,&quot;Machine Learning&quot;,&quot;A. M. Turing is a pioneer in the field of machine learning.&quot;,0.9}, {&quot;A. M. Turing&quot;,&quot;Chess&quot;,&quot;A. M. Turing suggested that a machine could be taught to play chess.&quot;,0.7}, {&quot;A. M. Turing&quot;,&quot;English&quot;,&quot;A. M. Turing suggested that a machine could be taught to understand and speak English.&quot;,0.7}]}</td></tr><tr><td>28</td><td>&quot;BIBLIOGRAPHY Samuel Butler, Er…</td><td>{[{&quot;Samuel Butler&quot;,&quot;Person&quot;,&quot;An author who wrote &#x27;Erewhon&#x27;.&quot;}, {&quot;Erewhon&quot;,&quot;Book&quot;,&quot;A book written by Samuel Butler.&quot;}, … {&quot;The Mind of Mechanical Man&quot;,&quot;Book&quot;,&quot;A book written by G. Jefferson.&quot;}],[{&quot;Samuel Butler&quot;,&quot;Erewhon&quot;,&quot;Samuel Butler wrote Erewhon.&quot;,0.9}, {&quot;Alonzo Church&quot;,&quot;An Unsolvable Problem of Elementary Number Theory&quot;,&quot;Alonzo Church wrote An Unsolvable Problem of Elementary Number Theory.&quot;,0.9}, … {&quot;G. Jefferson&quot;,&quot;The Mind of Mechanical Man&quot;,&quot;G. Jefferson wrote The Mind of Mechanical Man.&quot;,0.9}]}</td></tr><tr><td>28</td><td>&quot;Lister Oration for 1949. Briti…</td><td>{[{&quot;Lister Oration&quot;,&quot;Speech&quot;,&quot;A speech delivered in 1949.&quot;}, {&quot;British Medical Journal&quot;,&quot;Publication&quot;,&quot;A medical journal that published the Lister Oration in 1949.&quot;}, … {&quot;Proc. London Math. Soc.&quot;,&quot;Publication&quot;,&quot;A publication that published A. M. Turing&#x27;s paper.&quot;}],[{&quot;Lister Oration&quot;,&quot;British Medical Journal&quot;,&quot;The Lister Oration was published in the British Medical Journal.&quot;,0.9}, {&quot;Countess of Lovelace&quot;,&quot;Babbage&#x27;s Analytical Engine&quot;,&quot;The Countess of Lovelace translated an article on Babbage&#x27;s Analytical Engine.&quot;,0.8}, … {&quot;On Computable Numbers, with an Application to the Entscheidungsproblem&quot;,&quot;Proc. London Math. Soc.&quot;,&quot;A. M. Turing&#x27;s paper was published in Proc. London Math. Soc.&quot;,0.8}]}</td></tr><tr><td>28</td><td>&quot;2), 42 (1937), 230-265. Victor…</td><td>{[{&quot;Mind&quot;,&quot;Journal&quot;,&quot;A journal published by Oxford University Press.&quot;}, {&quot;Oxford University Press&quot;,&quot;Publisher&quot;,&quot;A department of the University of Oxford. It furthers the University&#x27;s objective of excellence in research, scholarship, and education by publishing worldwide.&quot;}, … {&quot;Victoria University of Manchester&quot;,&quot;University&quot;,&quot;A university in Manchester, England.&quot;}],[{&quot;Mind&quot;,&quot;Oxford University Press&quot;,&quot;Mind is published by Oxford University Press.&quot;,0.9}, {&quot;LIX&quot;,&quot;Mind&quot;,&quot;LIX is a volume of Mind.&quot;,0.8}, … {&quot;Victoria University of Manchester&quot;,&quot;986238&quot;,&quot;Victoria University of Manchester downloaded the article with DOI 986238.&quot;,0.4}]}</td></tr></tbody></table></div>"
      ],
      "text/plain": [
       "shape: (82, 3)\n",
       "┌──────┬─────────────────────────────────┬─────────────────────────────────┐\n",
       "│ page ┆ sentence_chunk                  ┆ graph_extraction                │\n",
       "│ ---  ┆ ---                             ┆ ---                             │\n",
       "│ i64  ┆ str                             ┆ struct[2]                       │\n",
       "╞══════╪═════════════════════════════════╪═════════════════════════════════╡\n",
       "│ 1    ┆ 433 VOL. LIX. NO.236.] [Octobe… ┆ {[{\"A. M. Turing\",\"Person\",\"Th… │\n",
       "│ 1    ┆ is to be sought in a statistic… ┆ {[{\"Gallup Poll\",\"Organization… │\n",
       "│ 2    ┆ 434 A. M. TURING: Now suppose … ┆ {[{\"A. M. Turing\",\"Person\",\"A … │\n",
       "│ 2    ┆ We now ask the question, ‘What… ┆ {[{\"Machine\",\"Artificial Intel… │\n",
       "│ 2    ┆ The form in which we have set … ┆ {[{\"The Form\",\"Problem\",\"The f… │\n",
       "│ …    ┆ …                               ┆ …                               │\n",
       "│ 27   ┆ But there the systematic metho… ┆ {[{\"Lady Lovelace\",\"Person\",\"A… │\n",
       "│ 28   ┆ 460 A. M. TURING: the differen… ┆ {[{\"A. M. Turing\",\"Person\",\"A … │\n",
       "│ 28   ┆ BIBLIOGRAPHY Samuel Butler, Er… ┆ {[{\"Samuel Butler\",\"Person\",\"A… │\n",
       "│ 28   ┆ Lister Oration for 1949. Briti… ┆ {[{\"Lister Oration\",\"Speech\",\"… │\n",
       "│ 28   ┆ 2), 42 (1937), 230-265. Victor… ┆ {[{\"Mind\",\"Journal\",\"A journal… │\n",
       "└──────┴─────────────────────────────────┴─────────────────────────────────┘"
      ]
     },
     "execution_count": 4,
     "metadata": {},
     "output_type": "execute_result"
    }
   ],
   "source": [
    "graphs"
   ]
  }
 ],
 "metadata": {
  "kernelspec": {
   "display_name": "Python 3 (ipykernel)",
   "language": "python",
   "name": "python3"
  },
  "language_info": {
   "codemirror_mode": {
    "name": "ipython",
    "version": 3
   },
   "file_extension": ".py",
   "mimetype": "text/x-python",
   "name": "python",
   "nbconvert_exporter": "python",
   "pygments_lexer": "ipython3",
   "version": "3.12.6"
  }
 },
 "nbformat": 4,
 "nbformat_minor": 2
}
