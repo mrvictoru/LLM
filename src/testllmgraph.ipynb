{
 "cells": [
  {
   "cell_type": "code",
   "execution_count": null,
   "metadata": {},
   "outputs": [],
   "source": [
    "# connect using http://127.0.0.1:8888/tree?token=llmpython_4698"
   ]
  },
  {
   "cell_type": "code",
   "execution_count": 1,
   "metadata": {},
   "outputs": [],
   "source": [
    "from textingest import PDFDocumentHandler\n",
    "import os\n",
    "# get the file path of first pdf file in the testinput subdirectory\n",
    "pdf = os.listdir(\"testinput\")[0]\n",
    "pdf_file = os.path.join(\"testinput\", pdf)\n",
    "\n",
    "handler = PDFDocumentHandler(pdf_file)"
   ]
  },
  {
   "cell_type": "code",
   "execution_count": 2,
   "metadata": {},
   "outputs": [
    {
     "name": "stdout",
     "output_type": "stream",
     "text": [
      "Opening PDF document...\n",
      "Loading PDF document...\n"
     ]
    },
    {
     "data": {
      "application/vnd.jupyter.widget-view+json": {
       "model_id": "cb2849ecf838496e9b03b92e14c404dc",
       "version_major": 2,
       "version_minor": 0
      },
      "text/plain": [
       "Reading PDF:   0%|          | 0/28 [00:00<?, ?it/s]"
      ]
     },
     "metadata": {},
     "output_type": "display_data"
    }
   ],
   "source": [
    "content = handler.read_pdf()"
   ]
  },
  {
   "cell_type": "code",
   "execution_count": 2,
   "metadata": {},
   "outputs": [
    {
     "name": "stdout",
     "output_type": "stream",
     "text": [
      "URL is reachable\n"
     ]
    }
   ],
   "source": [
    "from helper import LLMAPI\n",
    "llm = LLMAPI()"
   ]
  },
  {
   "cell_type": "code",
   "execution_count": 3,
   "metadata": {},
   "outputs": [
    {
     "name": "stdout",
     "output_type": "stream",
     "text": [
      "Opening PDF document...\n",
      "Loading PDF document...\n"
     ]
    },
    {
     "data": {
      "application/vnd.jupyter.widget-view+json": {
       "model_id": "32bb6fa62ef0429ebc9f3abad78ea2bd",
       "version_major": 2,
       "version_minor": 0
      },
      "text/plain": [
       "Reading PDF:   0%|          | 0/28 [00:00<?, ?it/s]"
      ]
     },
     "metadata": {},
     "output_type": "display_data"
    },
    {
     "data": {
      "application/vnd.jupyter.widget-view+json": {
       "model_id": "aef946ab6ab4446d99859276077dc0ae",
       "version_major": 2,
       "version_minor": 0
      },
      "text/plain": [
       "Embedding sentence chunks:   0%|          | 0/28 [00:00<?, ?it/s]"
      ]
     },
     "metadata": {},
     "output_type": "display_data"
    }
   ],
   "source": [
    "chunks = handler.embed_chunks(llm)"
   ]
  },
  {
   "cell_type": "code",
   "execution_count": 5,
   "metadata": {},
   "outputs": [
    {
     "data": {
      "text/html": [
       "<div><style>\n",
       ".dataframe > thead > tr,\n",
       ".dataframe > tbody > tr {\n",
       "  text-align: right;\n",
       "  white-space: pre-wrap;\n",
       "}\n",
       "</style>\n",
       "<small>shape: (82, 6)</small><table border=\"1\" class=\"dataframe\"><thead><tr><th>page</th><th>sentence_chunk</th><th>chunk_char_count</th><th>chunk_word_count</th><th>chunk_token_count</th><th>embedding</th></tr><tr><td>i64</td><td>str</td><td>i64</td><td>i64</td><td>f64</td><td>object</td></tr></thead><tbody><tr><td>1</td><td>&quot;433 VOL. LIX. NO.236.] [Octobe…</td><td>664</td><td>116</td><td>166.0</td><td>[ 0.00303277  0.02962807 -0.023227   ...  0.00296277 -0.01617019\n",
       " -0.01004065]</td></tr><tr><td>1</td><td>&quot;is to be sought in a statistic…</td><td>967</td><td>187</td><td>241.75</td><td>[-0.00220144 -0.00513158 -0.00665655 ... -0.00427331 -0.00896163\n",
       "  0.00221978]</td></tr><tr><td>2</td><td>&quot;434 A. M. TURING: Now suppose …</td><td>817</td><td>147</td><td>204.25</td><td>[-0.00639722  0.01687277  0.0102041  ... -0.00521389 -0.01617472\n",
       "  0.00410562]</td></tr><tr><td>2</td><td>&quot;We now ask the question, ‘What…</td><td>1031</td><td>182</td><td>257.75</td><td>[-0.00892244  0.01677476 -0.01200684 ...  0.00764172 -0.02801229\n",
       " -0.00246189]</td></tr><tr><td>2</td><td>&quot;The form in which we have set …</td><td>628</td><td>110</td><td>157.0</td><td>[-0.00163447 -0.00718713 -0.00112336 ... -0.00266511 -0.00653435\n",
       "  0.00339481]</td></tr><tr><td>&hellip;</td><td>&hellip;</td><td>&hellip;</td><td>&hellip;</td><td>&hellip;</td><td>&hellip;</td></tr><tr><td>27</td><td>&quot;But there the systematic metho…</td><td>288</td><td>60</td><td>72.0</td><td>[-0.00111258 -0.01540658  0.00095732 ...  0.00596496 -0.00374408\n",
       "  0.00471915]</td></tr><tr><td>28</td><td>&quot;460 A. M. TURING: the differen…</td><td>818</td><td>150</td><td>204.5</td><td>[-0.00601677  0.01516063  0.00645402 ... -0.0069553  -0.00279697\n",
       "  0.00504546]</td></tr><tr><td>28</td><td>&quot;BIBLIOGRAPHY Samuel Butler, Er…</td><td>586</td><td>84</td><td>146.5</td><td>[-0.01112467 -0.01231334  0.00095862 ... -0.0022658  -0.01093291\n",
       "  0.00290264]</td></tr><tr><td>28</td><td>&quot;Lister Oration for 1949. Briti…</td><td>401</td><td>55</td><td>100.25</td><td>[-1.77302083e-03  5.05503593e-03 -1.44924968e-02 ...  1.51052617e-03\n",
       " -8.58192925e-06  8.07222351e-03]</td></tr><tr><td>28</td><td>&quot;2), 42 (1937), 230-265. Victor…</td><td>161</td><td>17</td><td>40.25</td><td>[-0.00784832 -0.0108897  -0.00358858 ...  0.00525798 -0.010808\n",
       "  0.00444921]</td></tr></tbody></table></div>"
      ],
      "text/plain": [
       "shape: (82, 6)\n",
       "┌──────┬──────────────────┬──────────────────┬─────────────────┬─────────────────┬─────────────────┐\n",
       "│ page ┆ sentence_chunk   ┆ chunk_char_count ┆ chunk_word_coun ┆ chunk_token_cou ┆ embedding       │\n",
       "│ ---  ┆ ---              ┆ ---              ┆ t               ┆ nt              ┆ ---             │\n",
       "│ i64  ┆ str              ┆ i64              ┆ ---             ┆ ---             ┆ object          │\n",
       "│      ┆                  ┆                  ┆ i64             ┆ f64             ┆                 │\n",
       "╞══════╪══════════════════╪══════════════════╪═════════════════╪═════════════════╪═════════════════╡\n",
       "│ 1    ┆ 433 VOL. LIX.    ┆ 664              ┆ 116             ┆ 166.0           ┆ [ 0.00303277    │\n",
       "│      ┆ NO.236.]         ┆                  ┆                 ┆                 ┆ 0.02962807      │\n",
       "│      ┆ [Octobe…         ┆                  ┆                 ┆                 ┆ -0.02…          │\n",
       "│ 1    ┆ is to be sought  ┆ 967              ┆ 187             ┆ 241.75          ┆ [-0.00220144    │\n",
       "│      ┆ in a statistic…  ┆                  ┆                 ┆                 ┆ -0.00513158     │\n",
       "│      ┆                  ┆                  ┆                 ┆                 ┆ -0.00…          │\n",
       "│ 2    ┆ 434 A. M.        ┆ 817              ┆ 147             ┆ 204.25          ┆ [-0.00639722    │\n",
       "│      ┆ TURING: Now      ┆                  ┆                 ┆                 ┆ 0.01687277      │\n",
       "│      ┆ suppose …        ┆                  ┆                 ┆                 ┆ 0.01…           │\n",
       "│ 2    ┆ We now ask the   ┆ 1031             ┆ 182             ┆ 257.75          ┆ [-0.00892244    │\n",
       "│      ┆ question, ‘What… ┆                  ┆                 ┆                 ┆ 0.01677476      │\n",
       "│      ┆                  ┆                  ┆                 ┆                 ┆ -0.01…          │\n",
       "│ 2    ┆ The form in      ┆ 628              ┆ 110             ┆ 157.0           ┆ [-0.00163447    │\n",
       "│      ┆ which we have    ┆                  ┆                 ┆                 ┆ -0.00718713     │\n",
       "│      ┆ set …            ┆                  ┆                 ┆                 ┆ -0.00…          │\n",
       "│ …    ┆ …                ┆ …                ┆ …               ┆ …               ┆ …               │\n",
       "│ 27   ┆ But there the    ┆ 288              ┆ 60              ┆ 72.0            ┆ [-0.00111258    │\n",
       "│      ┆ systematic       ┆                  ┆                 ┆                 ┆ -0.01540658     │\n",
       "│      ┆ metho…           ┆                  ┆                 ┆                 ┆ 0.00…           │\n",
       "│ 28   ┆ 460 A. M.        ┆ 818              ┆ 150             ┆ 204.5           ┆ [-0.00601677    │\n",
       "│      ┆ TURING: the      ┆                  ┆                 ┆                 ┆ 0.01516063      │\n",
       "│      ┆ differen…        ┆                  ┆                 ┆                 ┆ 0.00…           │\n",
       "│ 28   ┆ BIBLIOGRAPHY     ┆ 586              ┆ 84              ┆ 146.5           ┆ [-0.01112467    │\n",
       "│      ┆ Samuel Butler,   ┆                  ┆                 ┆                 ┆ -0.01231334     │\n",
       "│      ┆ Er…              ┆                  ┆                 ┆                 ┆ 0.00…           │\n",
       "│ 28   ┆ Lister Oration   ┆ 401              ┆ 55              ┆ 100.25          ┆ [-1.77302083e-0 │\n",
       "│      ┆ for 1949. Briti… ┆                  ┆                 ┆                 ┆ 3               │\n",
       "│      ┆                  ┆                  ┆                 ┆                 ┆ 5.05503593e-…   │\n",
       "│ 28   ┆ 2), 42 (1937),   ┆ 161              ┆ 17              ┆ 40.25           ┆ [-0.00784832    │\n",
       "│      ┆ 230-265. Victor… ┆                  ┆                 ┆                 ┆ -0.0108897      │\n",
       "│      ┆                  ┆                  ┆                 ┆                 ┆ -0.00…          │\n",
       "└──────┴──────────────────┴──────────────────┴─────────────────┴─────────────────┴─────────────────┘"
      ]
     },
     "execution_count": 5,
     "metadata": {},
     "output_type": "execute_result"
    }
   ],
   "source": [
    "chunks"
   ]
  },
  {
   "cell_type": "code",
   "execution_count": 4,
   "metadata": {},
   "outputs": [],
   "source": [
    "import numpy as np\n",
    "prompt = \"What does a digital computer consist of?\"\n",
    "prompt_embedding = llm.embedding_text(prompt)\n",
    "prompt_embedding = np.array(prompt_embedding)"
   ]
  },
  {
   "cell_type": "code",
   "execution_count": 5,
   "metadata": {},
   "outputs": [],
   "source": [
    "from textingest import find_similar_chunk_np\n",
    "similar_df = find_similar_chunk_np(prompt_embedding, chunks)"
   ]
  },
  {
   "cell_type": "code",
   "execution_count": 6,
   "metadata": {},
   "outputs": [
    {
     "name": "stdout",
     "output_type": "stream",
     "text": [
      "shape: (5, 3)\n",
      "┌──────┬─────────────────────────────────┬───────────────────┐\n",
      "│ page ┆ sentence_chunk                  ┆ cosine_similarity │\n",
      "│ ---  ┆ ---                             ┆ ---               │\n",
      "│ i64  ┆ str                             ┆ f64               │\n",
      "╞══════╪═════════════════════════════════╪═══════════════════╡\n",
      "│ 9    ┆ Then the number of states is 1… ┆ 0.679204          │\n",
      "│ 5    ┆ It is then called the ‘table o… ┆ 0.614701          │\n",
      "│ 14   ┆ 446 A. M. TURING: it but know … ┆ 0.574121          │\n",
      "│ 25   ┆ These orders are to be transmi… ┆ 0.573854          │\n",
      "│ 28   ┆ 460 A. M. TURING: the differen… ┆ 0.567555          │\n",
      "└──────┴─────────────────────────────────┴───────────────────┘\n"
     ]
    }
   ],
   "source": [
    "# show the top 5 similar chunks\n",
    "print(similar_df.head(5))"
   ]
  },
  {
   "cell_type": "code",
   "execution_count": 5,
   "metadata": {},
   "outputs": [
    {
     "data": {
      "application/vnd.jupyter.widget-view+json": {
       "model_id": "c30f0286f6304778b0d40da00e203e61",
       "version_major": 2,
       "version_minor": 0
      },
      "text/plain": [
       "Extracting entities and relationships:   0%|          | 0/82 [00:00<?, ?it/s]"
      ]
     },
     "metadata": {},
     "output_type": "display_data"
    }
   ],
   "source": [
    "graphs = handler.graph_extraction(llm)"
   ]
  },
  {
   "cell_type": "code",
   "execution_count": 7,
   "metadata": {},
   "outputs": [
    {
     "data": {
      "text/html": [
       "<div><style>\n",
       ".dataframe > thead > tr,\n",
       ".dataframe > tbody > tr {\n",
       "  text-align: right;\n",
       "  white-space: pre-wrap;\n",
       "}\n",
       "</style>\n",
       "<small>shape: (82, 3)</small><table border=\"1\" class=\"dataframe\"><thead><tr><th>page</th><th>sentence_chunk</th><th>graph_extraction</th></tr><tr><td>i64</td><td>str</td><td>struct[2]</td></tr></thead><tbody><tr><td>1</td><td>&quot;433 VOL. LIX. NO.236.] [Octobe…</td><td>{[{&quot;A. M. Turing&quot;,&quot;Person&quot;,&quot;The author of the paper &#x27;Computing Machinery and Intelligence&#x27;.&quot;}, {&quot;Computing Machinery and Intelligence&quot;,&quot;Paper&quot;,&quot;A paper written by A. M. Turing on the topic of machine intelligence.&quot;}, … {&quot;Think&quot;,&quot;Concept&quot;,&quot;The process of using one&#x27;s mind to consider or reason about something.&quot;}],[{&quot;A. M. Turing&quot;,&quot;Computing Machinery and Intelligence&quot;,&quot;A. M. Turing wrote the paper &#x27;Computing Machinery and Intelligence&#x27;.&quot;,0.9}, {&quot;Computing Machinery and Intelligence&quot;,&quot;Machine&quot;,&quot;The paper discusses the concept of &#x27;machine&#x27;.&quot;,0.7}, {&quot;Computing Machinery and Intelligence&quot;,&quot;Think&quot;,&quot;The paper discusses the concept of &#x27;think&#x27;.&quot;,0.7}]}</td></tr><tr><td>1</td><td>&quot;is to be sought in a statistic…</td><td>{[{&quot;Gallup Poll&quot;,&quot;Organization&quot;,&quot;A statistical survey company.&quot;}, {&quot;Man (A)&quot;,&quot;Person&quot;,&quot;A participant in the imitation game, identified as &#x27;A&#x27;.&quot;}, … {&quot;Imitation Game&quot;,&quot;Game&quot;,&quot;A game played by three people, where the interrogator tries to determine the gender of the other two participants.&quot;}],[{&quot;Man (A)&quot;,&quot;Imitation Game&quot;,&quot;Man (A) is a participant in the imitation game.&quot;,0.9}, {&quot;Woman (B)&quot;,&quot;Imitation Game&quot;,&quot;Woman (B) is a participant in the imitation game.&quot;,0.9}, … {&quot;Imitation Game&quot;,&quot;Interrogator (C)&quot;,&quot;The imitation game involves Interrogator (C).&quot;,0.7}]}</td></tr><tr><td>2</td><td>&quot;434 A. M. TURING: Now suppose …</td><td>{[{&quot;A. M. TURING&quot;,&quot;Person&quot;,&quot;The author of the text.&quot;}, {&quot;X&quot;,&quot;Variable&quot;,&quot;A variable representing a person in the game.&quot;}, … {&quot;B&quot;,&quot;Person&quot;,&quot;A person in the game who is trying to help the interrogator identify X.&quot;}],[{&quot;A. M. TURING&quot;,&quot;X&quot;,&quot;A. M. TURING introduces the variable X in the game.&quot;,0.9}, {&quot;X&quot;,&quot;A&quot;,&quot;In the game, X is actually A.&quot;,0.8}, … {&quot;B&quot;,&quot;C&quot;,&quot;B is trying to help C identify X.&quot;,0.7}]}</td></tr><tr><td>2</td><td>&quot;We now ask the question, ‘What…</td><td>{[{&quot;Machine&quot;,&quot;Artificial Intelligence&quot;,&quot;A machine that takes the part of A in the game.&quot;}, {&quot;Interrogator&quot;,&quot;Person&quot;,&quot;The person who plays the game with the machine.&quot;}, … {&quot;Thinking Machine&quot;,&quot;Artificial Intelligence&quot;,&quot;A machine that is designed to think and process information.&quot;}],[{&quot;Machine&quot;,&quot;Interrogator&quot;,&quot;The machine plays the game with the interrogator.&quot;,0.9}, {&quot;Machine&quot;,&quot;Man&quot;,&quot;The machine replaces the man in the game.&quot;,0.8}, … {&quot;Thinking Machine&quot;,&quot;Machine&quot;,&quot;The machine is a thinking machine.&quot;,0.9}]}</td></tr><tr><td>2</td><td>&quot;The form in which we have set …</td><td>{[{&quot;The Form&quot;,&quot;Problem&quot;,&quot;The form in which the problem is set.&quot;}, {&quot;The Interrogator&quot;,&quot;Person&quot;,&quot;The person asking the questions.&quot;}, … {&quot;Chess&quot;,&quot;Game&quot;,&quot;A strategic board game played between two players.&quot;}],[{&quot;The Form&quot;,&quot;The Interrogator&quot;,&quot;The form of the problem affects the interrogator&#x27;s interaction with the competitors.&quot;,0.8}, {&quot;The Interrogator&quot;,&quot;The Competitors&quot;,&quot;The interrogator interacts with the competitors by asking them questions.&quot;,0.9}, … {&quot;The Interrogator&quot;,&quot;Chess&quot;,&quot;The interrogator asks a question about chess.&quot;,0.7}]}</td></tr><tr><td>&hellip;</td><td>&hellip;</td><td>&hellip;</td></tr><tr><td>27</td><td>&quot;But there the systematic metho…</td><td>{[{&quot;Lady Lovelace&quot;,&quot;Person&quot;,&quot;A person mentioned in the text.&quot;}, {&quot;Statement&quot;,&quot;Statement&quot;,&quot;A statement made by Lady Lovelace.&quot;}, … {&quot;https://academic.oup.com/mind/article/LIX/236/433/986238&quot;,&quot;URL&quot;,&quot;A URL mentioned in the text.&quot;}],[{&quot;Lady Lovelace&quot;,&quot;Statement&quot;,&quot;Lady Lovelace made the statement.&quot;,0.9}, {&quot;Statement&quot;,&quot;p. 450&quot;,&quot;The statement is located on page 450.&quot;,0.8}, … {&quot;Statement&quot;,&quot;https://academic.oup.com/mind/article/LIX/236/433/986238&quot;,&quot;The statement was downloaded from the URL.&quot;,0.6}]}</td></tr><tr><td>28</td><td>&quot;460 A. M. TURING: the differen…</td><td>{[{&quot;Alan Turing&quot;,&quot;Person&quot;,&quot;A mathematician and computer scientist who proposed the Turing test for artificial intelligence.&quot;}, {&quot;Chess&quot;,&quot;Game&quot;,&quot;A strategic board game played between two players.&quot;}, … {&quot;Artificial Intelligence&quot;,&quot;Field of Study&quot;,&quot;A branch of computer science that aims to create intelligent machines that work and react like humans.&quot;}],[{&quot;Alan Turing&quot;,&quot;Artificial Intelligence&quot;,&quot;Alan Turing is a pioneer in the field of artificial intelligence.&quot;,0.9}, {&quot;Alan Turing&quot;,&quot;Chess&quot;,&quot;Alan Turing suggested that a machine could be taught to play chess.&quot;,0.7}, {&quot;Alan Turing&quot;,&quot;English&quot;,&quot;Alan Turing proposed teaching a machine to understand and speak English.&quot;,0.7}]}</td></tr><tr><td>28</td><td>&quot;BIBLIOGRAPHY Samuel Butler, Er…</td><td>{[{&quot;Samuel Butler&quot;,&quot;Person&quot;,&quot;An author who wrote &#x27;Erewhon&#x27;.&quot;}, {&quot;Erewhon&quot;,&quot;Book&quot;,&quot;A book written by Samuel Butler in 1865.&quot;}, … {&quot;The Mind of Mechanical Man&quot;,&quot;Book&quot;,&quot;A book written by G. Jefferson.&quot;}],[{&quot;Samuel Butler&quot;,&quot;Erewhon&quot;,&quot;Samuel Butler wrote &#x27;Erewhon&#x27;.&quot;,0.9}, {&quot;Erewhon&quot;,&quot;London&quot;,&quot;&#x27;Erewhon&#x27; was published in London.&quot;,0.8}, … {&quot;G. Jefferson&quot;,&quot;The Mind of Mechanical Man&quot;,&quot;G. Jefferson wrote &#x27;The Mind of Mechanical Man&#x27;.&quot;,0.9}]}</td></tr><tr><td>28</td><td>&quot;Lister Oration for 1949. Briti…</td><td>{[{&quot;Lister Oration&quot;,&quot;Speech&quot;,&quot;A speech delivered in 1949.&quot;}, {&quot;British Medical Journal&quot;,&quot;Publication&quot;,&quot;A medical journal that published the Lister Oration in 1949.&quot;}, … {&quot;Proc. London Math. Soc.&quot;,&quot;Publication&quot;,&quot;A publication that published the paper &#x27;On Computable Numbers, with an Application to the Entscheidungsproblem&#x27;.&quot;}],[{&quot;Lister Oration&quot;,&quot;British Medical Journal&quot;,&quot;The Lister Oration was published in the British Medical Journal.&quot;,0.9}, {&quot;Countess of Lovelace&quot;,&quot;Babbage&#x27;s Analytical Engine&quot;,&quot;The Countess of Lovelace translated notes to an article on Babbage&#x27;s Analytical Engine.&quot;,0.8}, … {&quot;On Computable Numbers, with an Application to the Entscheidungsproblem&quot;,&quot;Proc. London Math. Soc.&quot;,&quot;The paper &#x27;On Computable Numbers, with an Application to the Entscheidungsproblem&#x27; was published in Proc. London Math. Soc.&quot;,0.9}]}</td></tr><tr><td>28</td><td>&quot;2), 42 (1937), 230-265. Victor…</td><td>{[{&quot;Mind&quot;,&quot;Journal&quot;,&quot;A journal publishing academic articles.&quot;}, {&quot;LIX&quot;,&quot;Volume&quot;,&quot;Volume 59 of the Mind journal.&quot;}, … {&quot;Victoria University of Manchester&quot;,&quot;University&quot;,&quot;A university where the article was downloaded from.&quot;}],[{&quot;Mind&quot;,&quot;LIX&quot;,&quot;LIX is a volume of the Mind journal.&quot;,0.9}, {&quot;LIX&quot;,&quot;236&quot;,&quot;236 is an issue of the LIX volume.&quot;,0.9}, … {&quot;Victoria University of Manchester&quot;,&quot;986238&quot;,&quot;Victoria University of Manchester is the source of the article download.&quot;,0.7}]}</td></tr></tbody></table></div>"
      ],
      "text/plain": [
       "shape: (82, 3)\n",
       "┌──────┬─────────────────────────────────┬─────────────────────────────────┐\n",
       "│ page ┆ sentence_chunk                  ┆ graph_extraction                │\n",
       "│ ---  ┆ ---                             ┆ ---                             │\n",
       "│ i64  ┆ str                             ┆ struct[2]                       │\n",
       "╞══════╪═════════════════════════════════╪═════════════════════════════════╡\n",
       "│ 1    ┆ 433 VOL. LIX. NO.236.] [Octobe… ┆ {[{\"A. M. Turing\",\"Person\",\"Th… │\n",
       "│ 1    ┆ is to be sought in a statistic… ┆ {[{\"Gallup Poll\",\"Organization… │\n",
       "│ 2    ┆ 434 A. M. TURING: Now suppose … ┆ {[{\"A. M. TURING\",\"Person\",\"Th… │\n",
       "│ 2    ┆ We now ask the question, ‘What… ┆ {[{\"Machine\",\"Artificial Intel… │\n",
       "│ 2    ┆ The form in which we have set … ┆ {[{\"The Form\",\"Problem\",\"The f… │\n",
       "│ …    ┆ …                               ┆ …                               │\n",
       "│ 27   ┆ But there the systematic metho… ┆ {[{\"Lady Lovelace\",\"Person\",\"A… │\n",
       "│ 28   ┆ 460 A. M. TURING: the differen… ┆ {[{\"Alan Turing\",\"Person\",\"A m… │\n",
       "│ 28   ┆ BIBLIOGRAPHY Samuel Butler, Er… ┆ {[{\"Samuel Butler\",\"Person\",\"A… │\n",
       "│ 28   ┆ Lister Oration for 1949. Briti… ┆ {[{\"Lister Oration\",\"Speech\",\"… │\n",
       "│ 28   ┆ 2), 42 (1937), 230-265. Victor… ┆ {[{\"Mind\",\"Journal\",\"A journal… │\n",
       "└──────┴─────────────────────────────────┴─────────────────────────────────┘"
      ]
     },
     "execution_count": 7,
     "metadata": {},
     "output_type": "execute_result"
    }
   ],
   "source": [
    "graphs"
   ]
  },
  {
   "cell_type": "code",
   "execution_count": 8,
   "metadata": {},
   "outputs": [
    {
     "name": "stdout",
     "output_type": "stream",
     "text": [
      "Graphs saved to testoutput/graphs.json.\n"
     ]
    }
   ],
   "source": [
    "handler.save_graphs(\"testoutput/graphs.json\")"
   ]
  },
  {
   "cell_type": "code",
   "execution_count": 2,
   "metadata": {},
   "outputs": [],
   "source": [
    "import polars as pl\n",
    "# load the saved graphs by using polars dataframe to laod json\n",
    "graph_df = pl.read_json(\"testoutput/graphs.json\")\n"
   ]
  },
  {
   "cell_type": "code",
   "execution_count": 3,
   "metadata": {},
   "outputs": [],
   "source": [
    "# get the first graph\n",
    "graphs = graph_df['graph_extraction']"
   ]
  },
  {
   "cell_type": "code",
   "execution_count": 3,
   "metadata": {},
   "outputs": [],
   "source": [
    "from textingest import GraphDatabaseConnection, GraphDataLoader\n",
    "neo4jconnect = GraphDatabaseConnection(uri = \"neo4j://llm-neo4j_db-1:7687\", user = \"neo4j\", password = \"password1\")\n",
    "neo4jloader = GraphDataLoader(neo4jconnect)"
   ]
  },
  {
   "cell_type": "code",
   "execution_count": 4,
   "metadata": {},
   "outputs": [],
   "source": [
    "combined_graph = {\"entities\": [], \"relationships\": []}\n",
    "# loop through the graphs and load them into the neo4j database\n",
    "for graph in graphs:\n",
    "    combined_graph[\"entities\"].extend(graph[\"entities\"])\n",
    "    combined_graph[\"relationships\"].extend(graph[\"relationships\"])"
   ]
  },
  {
   "cell_type": "code",
   "execution_count": 6,
   "metadata": {},
   "outputs": [
    {
     "data": {
      "text/plain": [
       "521"
      ]
     },
     "execution_count": 6,
     "metadata": {},
     "output_type": "execute_result"
    }
   ],
   "source": [
    "len(combined_graph[\"entities\"])"
   ]
  },
  {
   "cell_type": "code",
   "execution_count": 7,
   "metadata": {},
   "outputs": [],
   "source": [
    "neo4jloader.load_graph_from_data(combined_graph)"
   ]
  },
  {
   "cell_type": "code",
   "execution_count": 10,
   "metadata": {},
   "outputs": [],
   "source": [
    "from helper import is_duplicate\n",
    "\n",
    "def resolve_entities(combined_dict):\n",
    "    unique_entities = []\n",
    "    entity_map = {}  # Maps old entity names to new entity names\n",
    "\n",
    "    for entity in combined_dict['entities']:\n",
    "        found_duplicate = False\n",
    "        for unique_entity in unique_entities:\n",
    "            if is_duplicate(entity, unique_entity):\n",
    "                # Merge attributes if needed\n",
    "                found_duplicate = True\n",
    "                entity_map[entity['entity_name']] = unique_entity['entity_name']\n",
    "                break\n",
    "        if not found_duplicate:\n",
    "            unique_entities.append(entity)\n",
    "            entity_map[entity['entity_name']] = entity['entity_name']\n",
    "\n",
    "\n",
    "    # Update relationships to point to resolved entities\n",
    "    for relationship in combined_dict['relationships']:\n",
    "        relationship['source_entity'] = entity_map.get(relationship['source_entity'], relationship['source_entity'])\n",
    "        relationship['target_entity'] = entity_map.get(relationship['target_entity'], relationship['target_entity'])\n",
    "\n",
    "    return {\n",
    "        'entities': unique_entities,\n",
    "        'relationships': combined_dict['relationships']\n",
    "    }, entity_map, unique_entities"
   ]
  },
  {
   "cell_type": "code",
   "execution_count": 11,
   "metadata": {},
   "outputs": [],
   "source": [
    "resolve_graphs, map, unique = resolve_entities(combined_graph)"
   ]
  },
  {
   "cell_type": "code",
   "execution_count": 14,
   "metadata": {},
   "outputs": [
    {
     "data": {
      "text/plain": [
       "415"
      ]
     },
     "execution_count": 14,
     "metadata": {},
     "output_type": "execute_result"
    }
   ],
   "source": [
    "len(resolve_graphs['entities'])"
   ]
  }
 ],
 "metadata": {
  "kernelspec": {
   "display_name": "Python 3 (ipykernel)",
   "language": "python",
   "name": "python3"
  },
  "language_info": {
   "codemirror_mode": {
    "name": "ipython",
    "version": 3
   },
   "file_extension": ".py",
   "mimetype": "text/x-python",
   "name": "python",
   "nbconvert_exporter": "python",
   "pygments_lexer": "ipython3",
   "version": "3.12.6"
  }
 },
 "nbformat": 4,
 "nbformat_minor": 2
}
