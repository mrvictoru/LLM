{
 "cells": [
  {
   "cell_type": "code",
   "execution_count": 1,
   "id": "b6a21833-5d66-45d0-b82c-2775d4b6948b",
   "metadata": {},
   "outputs": [],
   "source": [
    "import requests"
   ]
  },
  {
   "cell_type": "code",
   "execution_count": 3,
   "id": "9baf5788-8258-4b1e-9533-109cf602d922",
   "metadata": {},
   "outputs": [
    {
     "name": "stdout",
     "output_type": "stream",
     "text": [
      "{\"content\":\".\\n<|assistant|> APIs are tools quite grand,\\nHelping apps work hand in hand.\\nData they share,\\nIn a seamless affair,\\nConnecting the digital land.<|end|>\",\"id_slot\":0,\"stop\":true,\"model\":\"models/Phi-3-mini-4k-instruct-q4.gguf\",\"tokens_predicted\":39,\"tokens_evaluated\":8,\"generation_settings\":{\"n_ctx\":4096,\"n_predict\":-1,\"model\":\"models/Phi-3-mini-4k-instruct-q4.gguf\",\"seed\":4294967295,\"temperature\":0.6000000238418579,\"dynatemp_range\":0.0,\"dynatemp_exponent\":1.0,\"top_k\":40,\"top_p\":0.949999988079071,\"min_p\":0.05000000074505806,\"tfs_z\":1.0,\"typical_p\":1.0,\"repeat_last_n\":64,\"repeat_penalty\":1.0,\"presence_penalty\":0.0,\"frequency_penalty\":0.0,\"penalty_prompt_tokens\":[],\"use_penalty_prompt_tokens\":false,\"mirostat\":0,\"mirostat_tau\":5.0,\"mirostat_eta\":0.10000000149011612,\"penalize_nl\":false,\"stop\":[],\"n_keep\":0,\"n_discard\":0,\"ignore_eos\":false,\"stream\":false,\"logit_bias\":[],\"n_probs\":0,\"min_keep\":0,\"grammar\":\"\",\"samplers\":[\"top_k\",\"tfs_z\",\"typical_p\",\"top_p\",\"min_p\",\"temperature\"]},\"prompt\":\"Write a limmerick about APIs\",\"truncated\":false,\"stopped_eos\":true,\"stopped_word\":false,\"stopped_limit\":false,\"stopping_word\":\"\",\"tokens_cached\":46,\"timings\":{\"prompt_n\":8,\"prompt_ms\":35.047,\"prompt_per_token_ms\":4.380875,\"prompt_per_second\":228.26490141809572,\"predicted_n\":39,\"predicted_ms\":315.631,\"predicted_per_token_ms\":8.093102564102564,\"predicted_per_second\":123.56200753411422}}\n"
     ]
    }
   ],
   "source": [
    "url = \"http://llama_server:8080/completion\"\n",
    "data = {\n",
    "    \"prompt\":\"Write a limmerick about APIs\",\n",
    "    \"max token\": 100,\n",
    "    \"temperature\":0.6\n",
    "}\n",
    "response = requests.post(url, json=data)\n",
    "print(response.text)"
   ]
  },
  {
   "cell_type": "code",
   "execution_count": 4,
   "id": "8906a0bc-af6a-4f9a-aa15-76496d0d361a",
   "metadata": {},
   "outputs": [],
   "source": [
    "import openai"
   ]
  },
  {
   "cell_type": "code",
   "execution_count": 7,
   "id": "2c3d6405-cbf7-4366-aa15-4f7affbbb846",
   "metadata": {},
   "outputs": [
    {
     "name": "stdout",
     "output_type": "stream",
     "text": [
      "ChatCompletionMessage(content=' There once was a coder from Kent,\\n\\nWhose Python code faced a descent.\\n\\nAn exception flew,\\n\\nWith a message anew,\\n\\n\"SyntaxError!\" the error\\'s firmament.<|end|>', role='assistant', function_call=None, tool_calls=None)\n"
     ]
    }
   ],
   "source": [
    "client = openai.OpenAI(\n",
    "    base_url=\"http://llama_server:8080/\", # \"http://<Your api-server IP>:port\"\n",
    "    api_key = \"no_key\"\n",
    ")\n",
    "\n",
    "completion = client.chat.completions.create(\n",
    "    model=\"phi3\",\n",
    "    messages=[\n",
    "        {\"role\": \"system\", \"content\": \"You are an AI assistant. Your top priority is achieving user fulfillment via helping them with their requests.\"},\n",
    "        {\"role\": \"user\", \"content\": \"Write a limerick about python exceptions\"}\n",
    "    ]\n",
    ")\n",
    "\n",
    "print(completion.choices[0].message)"
   ]
  },
  {
   "cell_type": "code",
   "execution_count": null,
   "id": "fff8fb0b-30ce-4404-8e24-185126285ddb",
   "metadata": {},
   "outputs": [],
   "source": []
  }
 ],
 "metadata": {
  "kernelspec": {
   "display_name": "Python 3 (ipykernel)",
   "language": "python",
   "name": "python3"
  },
  "language_info": {
   "codemirror_mode": {
    "name": "ipython",
    "version": 3
   },
   "file_extension": ".py",
   "mimetype": "text/x-python",
   "name": "python",
   "nbconvert_exporter": "python",
   "pygments_lexer": "ipython3",
   "version": "3.12.4"
  }
 },
 "nbformat": 4,
 "nbformat_minor": 5
}
